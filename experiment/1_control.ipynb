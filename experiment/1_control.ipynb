{
 "cells": [
  {
   "cell_type": "code",
   "execution_count": 27,
   "metadata": {},
   "outputs": [],
   "source": [
    "import socketio\n",
    "import urllib\n",
    "from time import sleep\n",
    "import requests"
   ]
  },
  {
   "cell_type": "code",
   "execution_count": 20,
   "metadata": {},
   "outputs": [],
   "source": [
    "sio = socketio.Client()\n",
    "\n",
    "@sio.event\n",
    "def connect():\n",
    "    print(f'Connected! SID: {sio.get_sid()}')\n",
    "\n",
    "@sio.event\n",
    "def disconnect():\n",
    "    print('Disconnected!')\n",
    "\n",
    "@sio.event\n",
    "def connect_error(data):\n",
    "    print(\"Connection failed!\")"
   ]
  },
  {
   "cell_type": "code",
   "execution_count": 4,
   "metadata": {},
   "outputs": [],
   "source": [
    "im_id = 0\n",
    "\n",
    "@sio.event\n",
    "def render(data):\n",
    "    # global im_id \n",
    "    \n",
    "    # # response = urllib.request.urlopen(data)\n",
    "    # # with open(f'responses/response_{i:03}.png', 'wb') as f:\n",
    "    # #     f.write(response.file.read())\n",
    "        \n",
    "    # im_id += 1\n",
    "    pass"
   ]
  },
  {
   "cell_type": "code",
   "execution_count": 12,
   "metadata": {},
   "outputs": [],
   "source": [
    "# @sio.on('connect', namespace='/sim-1')\n",
    "# def on_connect():\n",
    "#     print(\"I'm connected to the /sim-1 namespace!\")"
   ]
  },
  {
   "cell_type": "code",
   "execution_count": 26,
   "metadata": {},
   "outputs": [],
   "source": [
    "BASE_URL = \"http://localhost:3000\""
   ]
  },
  {
   "cell_type": "code",
   "execution_count": 67,
   "metadata": {},
   "outputs": [],
   "source": [
    "def attachToSim(sim_id):\n",
    "    namespace='/sim-'+sim_id\n",
    "\n",
    "    @sio.event(namespace=namespace)\n",
    "    def message(data):\n",
    "        print(data)\n",
    "\n",
    "    @sio.event(namespace=namespace)\n",
    "    def connect():\n",
    "        print(f\"I'm connected to the /sim-{sim_id} namespace!\")\n",
    "\n",
    "    @sio.event(namespace=namespace)\n",
    "    def disconnect():\n",
    "        print(f\"I'm disconnected!\")\n",
    "\n",
    "    sio.connect(BASE_URL, namespaces=[namespace])\n",
    "\n",
    "    sio.emit('sim:move', {'x': -200, 'y': 0}, namespace)\n",
    "\n",
    "    for i in range(20):\n",
    "        sio.emit('sim:move', {'x': 10, 'y': 40 * (2*(i % 2) - 1)}, namespace)\n",
    "        sleep(.05)\n",
    "\n",
    "    sio.disconnect()"
   ]
  },
  {
   "cell_type": "code",
   "execution_count": 68,
   "metadata": {},
   "outputs": [
    {
     "name": "stdout",
     "output_type": "stream",
     "text": [
      "I'm connected to the /sim-96d9a7db namespace!\n",
      "I'm disconnected!\n"
     ]
    },
    {
     "data": {
      "text/plain": [
       "<Response [204]>"
      ]
     },
     "execution_count": 68,
     "metadata": {},
     "output_type": "execute_result"
    }
   ],
   "source": [
    "url = f'{BASE_URL}/sims'\n",
    "response = requests.post(url)\n",
    "res_json = response.json()\n",
    "\n",
    "sim_id = res_json['id']\n",
    "\n",
    "attachToSim(sim_id)\n",
    "\n",
    "requests.delete(f'{url}/{sim_id}')"
   ]
  },
  {
   "cell_type": "code",
   "execution_count": 69,
   "metadata": {},
   "outputs": [
    {
     "name": "stdout",
     "output_type": "stream",
     "text": [
      "I'm connected to the /sim-00da54bd namespace!\n",
      "I'm disconnected!\n"
     ]
    }
   ],
   "source": [
    "attachToSim('00da54bd')"
   ]
  },
  {
   "cell_type": "code",
   "execution_count": null,
   "metadata": {},
   "outputs": [],
   "source": []
  }
 ],
 "metadata": {
  "interpreter": {
   "hash": "d24d54cb0694e031751d62983236527ac81d1b282769bdbede55422936476cda"
  },
  "kernelspec": {
   "display_name": "Python 3.9.6 64-bit ('.env': venv)",
   "name": "python3"
  },
  "language_info": {
   "codemirror_mode": {
    "name": "ipython",
    "version": 3
   },
   "file_extension": ".py",
   "mimetype": "text/x-python",
   "name": "python",
   "nbconvert_exporter": "python",
   "pygments_lexer": "ipython3",
   "version": "3.9.6"
  },
  "orig_nbformat": 4
 },
 "nbformat": 4,
 "nbformat_minor": 2
}
