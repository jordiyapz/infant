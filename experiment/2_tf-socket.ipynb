{
 "cells": [
  {
   "cell_type": "code",
   "execution_count": 24,
   "metadata": {},
   "outputs": [],
   "source": [
    "import tensorflow as tf\n",
    "import socketio\n",
    "import matplotlib.pyplot as plt\n",
    "from time import sleep\n",
    "import requests\n",
    "import urllib"
   ]
  },
  {
   "cell_type": "code",
   "execution_count": 25,
   "metadata": {},
   "outputs": [],
   "source": [
    "BASE_URL = 'http://localhost:3000'"
   ]
  },
  {
   "cell_type": "code",
   "execution_count": 67,
   "metadata": {},
   "outputs": [],
   "source": [
    "def plot_image(image):\n",
    "    plt.figure(figsize=(9, 6))\n",
    "    plt.imshow(image.numpy().astype(\"uint8\"))\n",
    "    plt.axis('off')\n",
    "    plt.show()"
   ]
  },
  {
   "cell_type": "code",
   "execution_count": 79,
   "metadata": {},
   "outputs": [],
   "source": [
    "class SimulationNamespace(socketio.ClientNamespace):\n",
    "    # def on_connect(self):\n",
    "    #     print('Connected')\n",
    "    \n",
    "    # def on_disconnect(self):\n",
    "    #     print('Disconnected')\n",
    "\n",
    "    def on_connect_error(self, error):\n",
    "        print(error)\n",
    "\n",
    "    def on_render(self, data_uri):\n",
    "        res = urllib.request.urlopen(data_uri)\n",
    "        image = tf.io.decode_png(res.file.read(), channels=4)\n",
    "        # plot_image(image)\n",
    "        actions = get_actions(image)\n",
    "        send_actions(actions, )\n",
    "    \n",
    "    def on_message(self, message):\n",
    "        print(message)"
   ]
  },
  {
   "cell_type": "code",
   "execution_count": 85,
   "metadata": {},
   "outputs": [],
   "source": [
    "def get_actions(image):\n",
    "    random_vec = tf.random.uniform((2, 1), -20, 20, dtype=tf.int32)\n",
    "    return random_vec\n",
    "\n",
    "def send_actions(actions, socket, namespace):\n",
    "    x, y = tf.reshape(actions, [-1]).numpy()\n",
    "    socket.emit('sim:move', data={'x': int(x), 'y': int(y)}, namespace=namespace)\n"
   ]
  },
  {
   "cell_type": "code",
   "execution_count": 89,
   "metadata": {},
   "outputs": [],
   "source": [
    "response = requests.get(BASE_URL+'/sims')\n",
    "id_list = response.json()\n",
    "\n",
    "sim_id = id_list[0] \n",
    "namespace = f'/sim-{sim_id}'\n",
    "\n",
    "socket = socketio.Client(reconnection_attempts=3)\n",
    "socket.register_namespace(SimulationNamespace(namespace))\n",
    "\n",
    "socket.connect(BASE_URL)\n",
    "# socket.emit('sim:render', namespace=namespace)\n",
    "while True:\n",
    "    try:\n",
    "        actions = get_actions(None)\n",
    "        send_actions(actions, socket, namespace)\n",
    "        socket.sleep(.1)\n",
    "    except KeyboardInterrupt:\n",
    "        break\n",
    "\n",
    "socket.disconnect()\n",
    "socket.wait()"
   ]
  },
  {
   "cell_type": "code",
   "execution_count": null,
   "metadata": {},
   "outputs": [],
   "source": []
  }
 ],
 "metadata": {
  "interpreter": {
   "hash": "d24d54cb0694e031751d62983236527ac81d1b282769bdbede55422936476cda"
  },
  "kernelspec": {
   "display_name": "Python 3.9.6 64-bit ('.env': venv)",
   "name": "python3"
  },
  "language_info": {
   "codemirror_mode": {
    "name": "ipython",
    "version": 3
   },
   "file_extension": ".py",
   "mimetype": "text/x-python",
   "name": "python",
   "nbconvert_exporter": "python",
   "pygments_lexer": "ipython3",
   "version": "3.9.6"
  },
  "orig_nbformat": 4
 },
 "nbformat": 4,
 "nbformat_minor": 2
}
