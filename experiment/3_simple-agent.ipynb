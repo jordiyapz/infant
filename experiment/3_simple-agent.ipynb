{
 "cells": [
  {
   "cell_type": "code",
   "execution_count": null,
   "metadata": {},
   "outputs": [],
   "source": [
    "import socketio\n",
    "import urllib\n",
    "import requests\n",
    "from time import sleep\n",
    "from IPython.display import display\n",
    "\n",
    "import numpy as np\n",
    "import matplotlib.pyplot as plt\n",
    "\n",
    "import torch\n",
    "from torch import nn\n",
    "\n",
    "import torchvision\n",
    "from torchvision.io import decode_png\n",
    "\n",
    "from infant import Environment"
   ]
  },
  {
   "cell_type": "code",
   "execution_count": null,
   "metadata": {},
   "outputs": [],
   "source": [
    "device = 'cpu'"
   ]
  },
  {
   "cell_type": "code",
   "execution_count": null,
   "metadata": {},
   "outputs": [],
   "source": [
    "BASE_URL = 'http://localhost:3000'"
   ]
  },
  {
   "cell_type": "code",
   "execution_count": null,
   "metadata": {},
   "outputs": [],
   "source": [
    "class NeuralNetwork(nn.Module):\n",
    "    def __init__(self):\n",
    "        super(NeuralNetwork, self).__init__()\n",
    "        self.flatten = nn.Flatten()\n",
    "        self.linear_relu_stack = nn.Sequential(\n",
    "            nn.Linear(3*400*600, 512),\n",
    "            nn.ReLU(),\n",
    "            nn.Linear(512, 3),\n",
    "            nn.Tanh()\n",
    "        )\n",
    "\n",
    "    def forward(self, x):\n",
    "        x = self.flatten(x)\n",
    "        logits = self.linear_relu_stack(x)\n",
    "        return logits"
   ]
  },
  {
   "cell_type": "code",
   "execution_count": null,
   "metadata": {},
   "outputs": [],
   "source": [
    "def create_responder(model):\n",
    "    def responder(state: torch.Tensor, reward: torch.Tensor, env: Environment):\n",
    "        \"\"\"Get state and returns action\"\"\"\n",
    "        try:\n",
    "            image = state * 1./255\n",
    "            images = torch.unsqueeze(image, dim=0)\n",
    "            X = torch.rand(image.shape) * images * 10\n",
    "\n",
    "            actions = model(X)\n",
    "            \n",
    "            # post-process actions\n",
    "            actions = torch.squeeze(actions) * 20\n",
    "            return actions\n",
    "        except Exception as e:\n",
    "            print(e)\n",
    "            env.stop()\n",
    "            return torch.ones((3,))\n",
    "\n",
    "    return responder"
   ]
  },
  {
   "cell_type": "code",
   "execution_count": null,
   "metadata": {},
   "outputs": [],
   "source": [
    "model = NeuralNetwork().to(device)\n",
    "print(model)"
   ]
  },
  {
   "cell_type": "code",
   "execution_count": null,
   "metadata": {},
   "outputs": [],
   "source": [
    "env = Environment()\n",
    "env.create()"
   ]
  },
  {
   "cell_type": "code",
   "execution_count": null,
   "metadata": {},
   "outputs": [],
   "source": [
    "env.on_state(create_responder(model))\n",
    "env.connect(close_on_stop=True)\n",
    "env.init(max_episodes=100)\n",
    "env.wait()"
   ]
  },
  {
   "cell_type": "code",
   "execution_count": null,
   "metadata": {},
   "outputs": [],
   "source": [
    "env.destroy()"
   ]
  },
  {
   "cell_type": "code",
   "execution_count": null,
   "metadata": {},
   "outputs": [],
   "source": [
    "envs = [Environment() for _ in range(2)]\n",
    "\n",
    "print('Initializing...')\n",
    "for env in envs:\n",
    "    env.create()\n",
    "    model = NeuralNetwork().to(device)\n",
    "    env.on_state(create_responder(model))\n",
    "\n",
    "print('Connecting...')\n",
    "for env in envs:\n",
    "    env.connect()\n",
    "\n",
    "print('Starting...')\n",
    "for env in envs:\n",
    "    env.init(max_episodes=10)\n",
    "\n",
    "print('Working...')\n",
    "for env in envs:\n",
    "    env.wait()\n",
    "\n",
    "print('Cleaning...')\n",
    "for env in envs:\n",
    "    env.destroy()"
   ]
  }
 ],
 "metadata": {
  "interpreter": {
   "hash": "d24d54cb0694e031751d62983236527ac81d1b282769bdbede55422936476cda"
  },
  "kernelspec": {
   "display_name": "Python 3.9.6 64-bit ('.env': venv)",
   "name": "python3"
  },
  "language_info": {
   "codemirror_mode": {
    "name": "ipython",
    "version": 3
   },
   "file_extension": ".py",
   "mimetype": "text/x-python",
   "name": "python",
   "nbconvert_exporter": "python",
   "pygments_lexer": "ipython3",
   "version": "3.9.6"
  },
  "orig_nbformat": 4
 },
 "nbformat": 4,
 "nbformat_minor": 2
}
